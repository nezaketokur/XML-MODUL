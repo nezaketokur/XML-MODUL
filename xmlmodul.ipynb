{
  "nbformat": 4,
  "nbformat_minor": 0,
  "metadata": {
    "colab": {
      "provenance": [],
      "authorship_tag": "ABX9TyN8PG1rlKzo63e9icHy+Lji",
      "include_colab_link": true
    },
    "kernelspec": {
      "name": "python3",
      "display_name": "Python 3"
    },
    "language_info": {
      "name": "python"
    }
  },
  "cells": [
    {
      "cell_type": "markdown",
      "metadata": {
        "id": "view-in-github",
        "colab_type": "text"
      },
      "source": [
        "<a href=\"https://colab.research.google.com/github/nezaketokur/XML-MODUL/blob/main/xmlmodul.ipynb\" target=\"_parent\"><img src=\"https://colab.research.google.com/assets/colab-badge.svg\" alt=\"Open In Colab\"/></a>"
      ]
    },
    {
      "cell_type": "code",
      "execution_count": null,
      "metadata": {
        "colab": {
          "base_uri": "https://localhost:8080/"
        },
        "id": "p29awRdCZI8n",
        "outputId": "a9849687-c55d-4833-b1b2-51fafb8458ba"
      },
      "outputs": [
        {
          "metadata": {
            "tags": null
          },
          "name": "stdout",
          "output_type": "stream",
          "text": [
            "oer_data.xml oluşturuldu.\n",
            "\n",
            "--- OER Metadata Yönetimi ---\n",
            "1. Yeni kayıt ekle\n",
            "2. Kayıtları listele\n",
            "3. Kayıtlarda arama yap\n",
            "4. Çıkış\n",
            "Geçersiz seçim, lütfen tekrar deneyin.\n",
            "\n",
            "--- OER Metadata Yönetimi ---\n",
            "1. Yeni kayıt ekle\n",
            "2. Kayıtları listele\n",
            "3. Kayıtlarda arama yap\n",
            "4. Çıkış\n",
            "Geçersiz seçim, lütfen tekrar deneyin.\n",
            "\n",
            "--- OER Metadata Yönetimi ---\n",
            "1. Yeni kayıt ekle\n",
            "2. Kayıtları listele\n",
            "3. Kayıtlarda arama yap\n",
            "4. Çıkış\n"
          ]
        }
      ],
      "source": [
        "import xml.etree.ElementTree as ET\n",
        "import os\n",
        "\n",
        "# XML dosyasının yolu\n",
        "XML_FILE = \"oer_data.xml\"\n",
        "\n",
        "\n",
        "class OERManager:\n",
        "    def __init__(self, file_name):\n",
        "        self.file_name = file_name\n",
        "        self._initialize_file()\n",
        "\n",
        "    def _initialize_file(self):\n",
        "        \"\"\"XML dosyasını oluştur veya mevcut dosyayı yükle.\"\"\"\n",
        "        if not os.path.exists(self.file_name):\n",
        "            root = ET.Element(\"OERs\")\n",
        "            tree = ET.ElementTree(root)\n",
        "            tree.write(self.file_name)\n",
        "            print(f\"{self.file_name} oluşturuldu.\")\n",
        "\n",
        "    def add_record(self, metadata):\n",
        "        \"\"\"Yeni bir OER kaydı ekle.\"\"\"\n",
        "        tree = ET.parse(self.file_name)\n",
        "        root = tree.getroot()\n",
        "\n",
        "        oer = ET.Element(\"OER\")\n",
        "        for key, value in metadata.items():\n",
        "            ET.SubElement(oer, key).text = value\n",
        "\n",
        "        root.append(oer)\n",
        "        tree.write(self.file_name)\n",
        "        print(\"Kayıt başarıyla eklendi!\")\n",
        "\n",
        "    def list_records(self):\n",
        "        \"\"\"XML dosyasındaki tüm kayıtları listele.\"\"\"\n",
        "        tree = ET.parse(self.file_name)\n",
        "        root = tree.getroot()\n",
        "\n",
        "        if not root.findall(\"OER\"):\n",
        "            print(\"Hiç kayıt yok!\")\n",
        "            return\n",
        "\n",
        "        for idx, oer in enumerate(root.findall(\"OER\"), start=1):\n",
        "            print(f\"\\n--- Kayıt {idx} ---\")\n",
        "            for field in oer:\n",
        "                print(f\"{field.tag}: {field.text}\")\n",
        "\n",
        "    def search_records(self, keyword):\n",
        "        \"\"\"Anahtar kelimeye göre kayıtları ara.\"\"\"\n",
        "        tree = ET.parse(self.file_name)\n",
        "        root = tree.getroot()\n",
        "\n",
        "        found = False\n",
        "        for oer in root.findall(\"OER\"):\n",
        "            if any(keyword.lower() in (field.text or \"\").lower() for field in oer):\n",
        "                print(\"\\n--- Eşleşen Kayıt ---\")\n",
        "                for field in oer:\n",
        "                    print(f\"{field.tag}: {field.text}\")\n",
        "                found = True\n",
        "\n",
        "        if not found:\n",
        "            print(\"Hiçbir eşleşen kayıt bulunamadı.\")\n",
        "\n",
        "\n",
        "def main():\n",
        "    manager = OERManager(XML_FILE)\n",
        "\n",
        "    while True:\n",
        "        print(\"\\n--- OER Metadata Yönetimi ---\")\n",
        "        print(\"1. Yeni kayıt ekle\")\n",
        "        print(\"2. Kayıtları listele\")\n",
        "        print(\"3. Kayıtlarda arama yap\")\n",
        "        print(\"4. Çıkış\")\n",
        "        choice = input(\"Seçiminiz: \")\n",
        "\n",
        "        if choice == \"1\":\n",
        "            metadata = {\n",
        "                \"Title\": input(\"Title (Başlık): \"),\n",
        "                \"Subject\": input(\"Subject (Anahtar Kelimeler): \"),\n",
        "                \"Description\": input(\"Description (Özet Bilgi): \"),\n",
        "                \"Creator\": input(\"Creator (Oluşturan Kişi/Kuruluş): \"),\n",
        "                \"License\": input(\"License (Açık Lisans): \"),\n",
        "                \"Language\": input(\"Language (Dil): \"),\n",
        "                \"Identifier\": input(\"Identifier (Kaynağın URL'si): \"),\n",
        "            }\n",
        "            manager.add_record(metadata)\n",
        "\n",
        "        elif choice == \"2\":\n",
        "            manager.list_records()\n",
        "\n",
        "        elif choice == \"3\":\n",
        "            keyword = input(\"Arama terimi: \")\n",
        "            manager.search_records(keyword)\n",
        "\n",
        "        elif choice == \"4\":\n",
        "            print(\"Programdan çıkılıyor.\")\n",
        "            break\n",
        "\n",
        "        else:\n",
        "            print(\"Geçersiz seçim, lütfen tekrar deneyin.\")\n",
        "\n",
        "\n",
        "if __name__ == \"__main__\":\n",
        "    main()\n"
      ]
    }
  ]
}